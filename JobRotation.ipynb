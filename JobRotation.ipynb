{
  "nbformat": 4,
  "nbformat_minor": 0,
  "metadata": {
    "colab": {
      "provenance": []
    },
    "kernelspec": {
      "name": "python3",
      "display_name": "Python 3"
    },
    "language_info": {
      "name": "python"
    }
  },
  "cells": [
    {
      "cell_type": "markdown",
      "source": [
        "**Questão 1-**\n",
        "int INDICE = 13, SOMA = 0, K = 0;\n",
        "\n",
        "enquanto K < INDICE faça\n",
        "\n",
        "{\n",
        "\n",
        "K = K + 1;\n",
        "\n",
        "SOMA = SOMA + K;\n",
        "\n",
        "}\n",
        "\n",
        "imprimir(SOMA);\n",
        "\n",
        "\n",
        "Ao final do processamento, qual será o valor da variável SOMA?\n",
        "Resposta : 91"
      ],
      "metadata": {
        "id": "7h4O-Vr0JppG"
      }
    },
    {
      "cell_type": "code",
      "execution_count": 1,
      "metadata": {
        "colab": {
          "base_uri": "https://localhost:8080/"
        },
        "id": "PU3NdosRJloV",
        "outputId": "4be214e8-d285-4eaf-dc3a-abc04a4c07ea"
      },
      "outputs": [
        {
          "output_type": "stream",
          "name": "stdout",
          "text": [
            "91\n"
          ]
        }
      ],
      "source": [
        "INDICE = 13\n",
        "SOMA = 0\n",
        "K = 0\n",
        "\n",
        "while K < INDICE:\n",
        "    K = K + 1\n",
        "    SOMA = SOMA + K\n",
        "\n",
        "print(SOMA)\n"
      ]
    },
    {
      "cell_type": "markdown",
      "source": [
        "**Questão 2-**\n",
        "Dado a sequência de Fibonacci, onde se inicia por 0 e 1 e o próximo valor sempre será a soma dos 2 valores anteriores (exemplo: 0, 1, 1, 2, 3, 5, 8, 13, 21, 34...), escreva um programa na linguagem que desejar onde, informado um número, ele calcule a sequência de Fibonacci e retorne uma mensagem avisando se o número informado pertence ou não a sequência.\n",
        "\n",
        "IMPORTANTE:\n",
        "\n",
        "Esse número pode ser informado através de qualquer entrada de sua preferência ou pode ser previamente definido no código;\n",
        "\n",
        "Resposta: Nesse caso como foi opcional eu defini a variavel num como 13 e ao rodar o codigo sera informado que ele faz parte da sequencia de Fibonacci.\n",
        "\n",
        "Resposta:"
      ],
      "metadata": {
        "id": "UxrKbKdCKjE0"
      }
    },
    {
      "cell_type": "code",
      "source": [
        "num = 13\n",
        "\n",
        "# Cálculo da sequência de Fibonacci\n",
        "fibonacci = [0, 1]\n",
        "while fibonacci[-1] < num:\n",
        "    fibonacci.append(fibonacci[-1] + fibonacci[-2])\n",
        "\n",
        "# Confere se o número que foi informado faz parte ou não da sequência de Fibonacci\n",
        "if num in fibonacci:\n",
        "    print(f\"O número {num} faz parte da sequência de Fibonacci.\")\n",
        "else:\n",
        "    print(f\"O número {num} não faz parte da sequência de Fibonacci.\")\n"
      ],
      "metadata": {
        "colab": {
          "base_uri": "https://localhost:8080/"
        },
        "id": "TYS4QPOcLTF8",
        "outputId": "b31eb14a-e675-4ae9-96f9-e11af0945db5"
      },
      "execution_count": 12,
      "outputs": [
        {
          "output_type": "stream",
          "name": "stdout",
          "text": [
            "O número 13 pertence à sequência de Fibonacci.\n"
          ]
        }
      ]
    },
    {
      "cell_type": "markdown",
      "source": [
        "**Questão 3-** Descubra a lógica e complete o próximo elemento:\n",
        "\n",
        "a) 1, 3, 5, 7, 9\n",
        "\n",
        "b) 2, 4, 8, 16, 32, 64, 128\n",
        "\n",
        "c) 0, 1, 4, 9, 16, 25, 36, 49\n",
        "\n",
        "d) 4, 16, 36, 64, 100\n",
        "\n",
        "e) 1, 1, 2, 3, 5, 8, 13\n",
        "\n",
        "f) 2, 10, 12, 16, 17, 18, 19, 20\n",
        "\n",
        "Resposta:\n",
        "\n",
        "a) A lógica é ir adicionando 2 a cada número para conseguir o próximo.\n",
        "\n",
        "b) A lógica é multiplicar o número anterior por 2 para conseguir o próximo.\n",
        "\n",
        "c) A lógica é pegar o quadrado do índice do número na sequência. Por exemplo, o primeiro número é 0, que é o quadrado de 0; o segundo número é 1, que é o quadrado de 1; o terceiro número é 4, que é o quadrado de 2; e assim por diante.\n",
        "\n",
        "d) A lógica é pegar o quadrado do número ímpar (1, 3, 5, 7, ...) similar ao índice do número na sequência. Por exemplo, o primeiro número é 4, que é o quadrado de 2; o segundo número é 16, que é o quadrado de 4; o terceiro número é 36, que é o quadrado de 6; e assim por diante.\n",
        "\n",
        "e) A lógica é pegar a soma dos dois números anteriores para obter o próximo. Essa é a sequência de Fibonacci q foi demostrada no exercicio 2.\n",
        "\n",
        "f) A sequência começa com o número 2 e, a partir do segundo número, cada numero é calculado adicionando 2 ao número anterior, exceto no quinto número pois adiciona apenas 1. Então, a sequência continua a ser calculada adicionando 2 ao número anterior até o final da sequência."
      ],
      "metadata": {
        "id": "LVS3iYKBOTdO"
      }
    },
    {
      "cell_type": "markdown",
      "source": [
        "**Questão 4-** Dois veículos (um carro e um caminhão) saem respectivamente de cidades opostas pela mesma rodovia. O carro de Ribeirão Preto em direção a Franca, a uma velocidade constante de 110 km/h e o caminhão de Franca em direção a Ribeirão Preto a uma velocidade constante de 80 km/h. Quando eles se cruzarem na rodovia, qual estará mais próximo a cidade de Ribeirão Preto?\n",
        "\n",
        "IMPORTANTE:\n",
        "\n",
        "a) Considerar a distância de 100km entre a cidade de Ribeirão Preto <-> Franca.\n",
        "\n",
        "b) Considerar 2 pedágios como obstáculo e que o caminhão leva 5 minutos a mais para passar em cada um deles e o carro possui tag de pedágio (Sem Parar)\n",
        "\n",
        "c) Explique como chegou no resultado.\n",
        "Nessa situação, temos que o carro e o caminhão se encontram no meio do caminho, ou seja, após percorrerem 50 km cada um.\n",
        "\n",
        "Resposta:\n",
        "Considerando que o carro mantém a velocidade de 110 km/h durante todo o trajeto e não precisa parar nos pedágios por possuir tag, sua velocidade média será de 110 km/h.\n",
        "\n",
        "Já o caminhão, apesar de ter velocidade constante de 80 km/h, leva 5 minutos a mais para passar em cada pedágio, o que o faz ter um tempo total maior de viagem.\n",
        "\n",
        "Com isso deduzimos que o caminhão estará mais próximo da cidade de Ribeirão Preto quando os dois veículos se encontrarem na rodovia."
      ],
      "metadata": {
        "id": "y1dDt4h0UiVY"
      }
    },
    {
      "cell_type": "markdown",
      "source": [
        "**Questão 5-** Escreva um programa que inverta os caracteres de um string.\n",
        "IMPORTANTE:\n",
        "\n",
        "a) Essa string pode ser informada através de qualquer entrada de sua preferência ou pode ser previamente definida no código;\n",
        "\n",
        "b) Evite usar funções prontas, como, por exemplo, reverse;\n",
        "\n",
        "Resposta:"
      ],
      "metadata": {
        "id": "6Kpx0OA4VlfB"
      }
    },
    {
      "cell_type": "code",
      "source": [
        "string = input(\"Digite uma string: \")\n",
        "string_invertida = \"\"\n",
        "\n",
        "for i in range(len(string)-1, -1, -1):\n",
        "    string_invertida += string[i]\n",
        "\n",
        "print(\"A string invertida é:\", string_invertida)\n"
      ],
      "metadata": {
        "colab": {
          "base_uri": "https://localhost:8080/"
        },
        "id": "MU2gN1rMMpbP",
        "outputId": "54e3c86b-6728-4c1a-a1a4-33bc42a3bbb3"
      },
      "execution_count": 13,
      "outputs": [
        {
          "output_type": "stream",
          "name": "stdout",
          "text": [
            "Digite uma string: 124\n",
            "A string invertida é: 421\n"
          ]
        }
      ]
    }
  ]
}